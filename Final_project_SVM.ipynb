{
 "cells": [
  {
   "cell_type": "code",
   "execution_count": 1,
   "metadata": {
    "collapsed": true
   },
   "outputs": [],
   "source": [
    "#Required libraires for the project\n",
    "import os\n",
    "import nltk\n",
    "import pandas as pd\n",
    "import numpy as np\n",
    "import matplotlib.pyplot as plt\n",
    "import matplotlib.pyplot as plt\n",
    "import re\n",
    "text_list=[]\n",
    "label_list=[]\n",
    "df = pd.DataFrame(columns=['Text','Label'])\n",
    "count=0\n",
    "spam_count=0\n",
    "non_spam_count=0\n",
    "for root, dirs, files in os.walk(\"/Users/prashanthimallijula/Documents/EECS738/project3/lingspam_public/lemm_stop/\"):\n",
    "        #print(root)\n",
    "        for  root, dirs, files in os.walk(root):\n",
    "            for file in files:\n",
    "                #if (count > 0):\n",
    "                    f = open(root+\"/\"+file, \"r\",encoding='latin-1', errors='ignore')\n",
    "                    text= f.read()\n",
    "                    if (file[0:4]==\"spms\"):\n",
    "                        lable= \"spam\"\n",
    "                        spam_count=spam_count+1\n",
    "                    else:\n",
    "                        lable= \"not_spam\"\n",
    "                        non_spam_count=non_spam_count+1\n",
    "                    f.close()\n",
    "                    text_list.append(text[8:])\n",
    "                    label_list.append(lable)\n",
    "\n",
    "            #count=count+1\n",
    "df['Text']=text_list\n",
    "df['Label']=label_list"
   ]
  },
  {
   "cell_type": "code",
   "execution_count": 2,
   "metadata": {
    "collapsed": false
   },
   "outputs": [],
   "source": [
    "df['Text'] = [entry.lower() for entry in df['Text']]"
   ]
  },
  {
   "cell_type": "code",
   "execution_count": 3,
   "metadata": {
    "collapsed": true
   },
   "outputs": [],
   "source": [
    "ind_list=[]\n",
    "ind_count=0\n",
    "for i in df['Text']:\n",
    "    ind_count=ind_count+1\n",
    "    ind_list.append(ind_count)\n",
    "df['Ind']= ind_list"
   ]
  },
  {
   "cell_type": "code",
   "execution_count": 4,
   "metadata": {
    "collapsed": false
   },
   "outputs": [
    {
     "data": {
      "text/html": [
       "<div>\n",
       "<style scoped>\n",
       "    .dataframe tbody tr th:only-of-type {\n",
       "        vertical-align: middle;\n",
       "    }\n",
       "\n",
       "    .dataframe tbody tr th {\n",
       "        vertical-align: top;\n",
       "    }\n",
       "\n",
       "    .dataframe thead th {\n",
       "        text-align: right;\n",
       "    }\n",
       "</style>\n",
       "<table border=\"1\" class=\"dataframe\">\n",
       "  <thead>\n",
       "    <tr style=\"text-align: right;\">\n",
       "      <th></th>\n",
       "      <th>Text</th>\n",
       "      <th>Label</th>\n",
       "      <th>Ind</th>\n",
       "    </tr>\n",
       "  </thead>\n",
       "  <tbody>\n",
       "    <tr>\n",
       "      <th>0</th>\n",
       "      <td>\u0000\u0000 \u0000\u0000\u0000\b\u0000\u0000\u0000 \u0000\u0000\u0000\u0010\f",
       "\u0000\u0000\u0000\u0000\u0000\u0000\u0000\u0000\u0000\u0000\u0000\u0000\u0000\u0000\u0000\u0000\u0000\u0000\u0000\u0000\u0000\u0000\b\u0000\u0000\u0000\b\u0000\u0000\u0000...</td>\n",
       "      <td>not_spam</td>\n",
       "      <td>1</td>\n",
       "    </tr>\n",
       "    <tr>\n",
       "      <th>1</th>\n",
       "      <td>job post - apple-iss research center\\n\\nconte...</td>\n",
       "      <td>not_spam</td>\n",
       "      <td>2</td>\n",
       "    </tr>\n",
       "    <tr>\n",
       "      <th>2</th>\n",
       "      <td>\\n\\nlang classification grime , joseph e . ba...</td>\n",
       "      <td>not_spam</td>\n",
       "      <td>3</td>\n",
       "    </tr>\n",
       "    <tr>\n",
       "      <th>3</th>\n",
       "      <td>query : letter frequency text identification\\...</td>\n",
       "      <td>not_spam</td>\n",
       "      <td>4</td>\n",
       "    </tr>\n",
       "    <tr>\n",
       "      <th>4</th>\n",
       "      <td>risk\\n\\ncolleague research differ degree risk...</td>\n",
       "      <td>not_spam</td>\n",
       "      <td>5</td>\n",
       "    </tr>\n",
       "  </tbody>\n",
       "</table>\n",
       "</div>"
      ],
      "text/plain": [
       "                                                Text     Label  Ind\n",
       "0  \u0000\u0000 \u0000\u0000\u0000\b\u0000\u0000\u0000 \u0000\u0000\u0000\u0010\n",
       "\u0000\u0000\u0000\u0000\u0000\u0000\u0000\u0000\u0000\u0000\u0000\u0000\u0000\u0000\u0000\u0000\u0000\u0000\u0000\u0000\u0000\u0000\b\u0000\u0000\u0000\b\u0000\u0000\u0000...  not_spam    1\n",
       "1   job post - apple-iss research center\\n\\nconte...  not_spam    2\n",
       "2   \\n\\nlang classification grime , joseph e . ba...  not_spam    3\n",
       "3   query : letter frequency text identification\\...  not_spam    4\n",
       "4   risk\\n\\ncolleague research differ degree risk...  not_spam    5"
      ]
     },
     "execution_count": 4,
     "metadata": {},
     "output_type": "execute_result"
    }
   ],
   "source": [
    "df.head()"
   ]
  },
  {
   "cell_type": "code",
   "execution_count": 5,
   "metadata": {
    "collapsed": true
   },
   "outputs": [],
   "source": [
    "df.set_index('Ind', inplace=True)"
   ]
  },
  {
   "cell_type": "code",
   "execution_count": 6,
   "metadata": {
    "collapsed": false
   },
   "outputs": [
    {
     "name": "stdout",
     "output_type": "stream",
     "text": [
      "non_spam_count 4825\n",
      "spam_count 962\n"
     ]
    }
   ],
   "source": [
    "spam_count=0\n",
    "non_spam_count=0\n",
    "for i in df['Label']:\n",
    "    if (i== str('not_spam')):\n",
    "        non_spam_count=non_spam_count+1\n",
    "    if (i== str('spam')):\n",
    "        spam_count= spam_count+1\n",
    "        \n",
    "print('non_spam_count', non_spam_count)\n",
    "print('spam_count',spam_count)"
   ]
  },
  {
   "cell_type": "code",
   "execution_count": 7,
   "metadata": {
    "collapsed": false
   },
   "outputs": [
    {
     "data": {
      "text/plain": [
       "(5787, 2)"
      ]
     },
     "execution_count": 7,
     "metadata": {},
     "output_type": "execute_result"
    }
   ],
   "source": [
    "df.shape"
   ]
  },
  {
   "cell_type": "code",
   "execution_count": 8,
   "metadata": {
    "collapsed": false
   },
   "outputs": [
    {
     "data": {
      "text/plain": [
       "array(['not_spam', 'spam'], dtype=object)"
      ]
     },
     "execution_count": 8,
     "metadata": {},
     "output_type": "execute_result"
    }
   ],
   "source": [
    "df['Label'].unique()"
   ]
  },
  {
   "cell_type": "code",
   "execution_count": 9,
   "metadata": {
    "collapsed": false
   },
   "outputs": [
    {
     "data": {
      "text/html": [
       "<div>\n",
       "<style scoped>\n",
       "    .dataframe tbody tr th:only-of-type {\n",
       "        vertical-align: middle;\n",
       "    }\n",
       "\n",
       "    .dataframe tbody tr th {\n",
       "        vertical-align: top;\n",
       "    }\n",
       "\n",
       "    .dataframe thead th {\n",
       "        text-align: right;\n",
       "    }\n",
       "</style>\n",
       "<table border=\"1\" class=\"dataframe\">\n",
       "  <thead>\n",
       "    <tr style=\"text-align: right;\">\n",
       "      <th></th>\n",
       "      <th>Text</th>\n",
       "      <th>Label</th>\n",
       "    </tr>\n",
       "  </thead>\n",
       "  <tbody>\n",
       "    <tr>\n",
       "      <th>count</th>\n",
       "      <td>5787</td>\n",
       "      <td>5787</td>\n",
       "    </tr>\n",
       "    <tr>\n",
       "      <th>unique</th>\n",
       "      <td>2875</td>\n",
       "      <td>2</td>\n",
       "    </tr>\n",
       "    <tr>\n",
       "      <th>top</th>\n",
       "      <td>re :\\n\\n= 20 virtual girlfriend virtual boyfr...</td>\n",
       "      <td>not_spam</td>\n",
       "    </tr>\n",
       "    <tr>\n",
       "      <th>freq</th>\n",
       "      <td>8</td>\n",
       "      <td>4825</td>\n",
       "    </tr>\n",
       "  </tbody>\n",
       "</table>\n",
       "</div>"
      ],
      "text/plain": [
       "                                                     Text     Label\n",
       "count                                                5787      5787\n",
       "unique                                               2875         2\n",
       "top      re :\\n\\n= 20 virtual girlfriend virtual boyfr...  not_spam\n",
       "freq                                                    8      4825"
      ]
     },
     "execution_count": 9,
     "metadata": {},
     "output_type": "execute_result"
    }
   ],
   "source": [
    "df.describe(exclude=[np.number])"
   ]
  },
  {
   "cell_type": "code",
   "execution_count": 19,
   "metadata": {
    "collapsed": true
   },
   "outputs": [],
   "source": [
    "from nltk import word_tokenize\n",
    "df['Text'].dropna(inplace=True)\n",
    "df['tokenized_text'] =df['Text'].apply(word_tokenize)"
   ]
  },
  {
   "cell_type": "code",
   "execution_count": 20,
   "metadata": {
    "collapsed": false
   },
   "outputs": [
    {
     "name": "stdout",
     "output_type": "stream",
     "text": [
      "[nltk_data] Downloading package stopwords to\n",
      "[nltk_data]     /Users/prashanthimallijula/nltk_data...\n",
      "[nltk_data]   Package stopwords is already up-to-date!\n"
     ]
    }
   ],
   "source": [
    "#Remove speacial characters\n",
    "#Check stop words and special characters\n",
    "from nltk.corpus import stopwords\n",
    "nltk.download('stopwords')\n",
    "stop_words = stopwords.words('english')\n",
    "#special=['!','@','#','$','%','^','&','*','(',')',':','<','>',',','.',';','{','}','|','_','-','+','=','`','~',\"--\",\"'\",'\"','[',']','\\n','/','\\\\']\n",
    "special=[',','.',';','_','-','=','*']\n",
    "for item  in df['tokenized_text']:\n",
    "    item_new=[]\n",
    "    for word in item:\n",
    "        word=str(word)\n",
    "        if (word in stop_words) or (word in special):\n",
    "            item.remove(word)"
   ]
  },
  {
   "cell_type": "code",
   "execution_count": 21,
   "metadata": {
    "collapsed": false
   },
   "outputs": [
    {
     "name": "stdout",
     "output_type": "stream",
     "text": [
      "[nltk_data] Downloading package stopwords to\n",
      "[nltk_data]     /Users/prashanthimallijula/nltk_data...\n",
      "[nltk_data]   Package stopwords is already up-to-date!\n"
     ]
    }
   ],
   "source": [
    "#Remove speacial characters\n",
    "#Check stop words and special characters\n",
    "from nltk.corpus import stopwords\n",
    "nltk.download('stopwords')\n",
    "stop_words = stopwords.words('english')\n",
    "#special=['!','@','#','$','%','^','&','*','(',')',':','<','>',',','.',';','{','}','|','_','-','+','=','`','~',\"--\",\"'\",'\"','[',']','\\n','/','\\\\']\n",
    "special=[',','.',';','_','-','=','*']\n",
    "for item  in df['tokenized_text']:\n",
    "    item_new=[]\n",
    "    for word in item:\n",
    "        word=str(word)\n",
    "        if (word in stop_words) or (word in special):\n",
    "            item.remove(word)"
   ]
  },
  {
   "cell_type": "code",
   "execution_count": 22,
   "metadata": {
    "collapsed": false
   },
   "outputs": [
    {
     "name": "stdout",
     "output_type": "stream",
     "text": [
      "[nltk_data] Downloading package stopwords to\n",
      "[nltk_data]     /Users/prashanthimallijula/nltk_data...\n",
      "[nltk_data]   Package stopwords is already up-to-date!\n"
     ]
    }
   ],
   "source": [
    "#Remove speacial characters\n",
    "#Check stop words and special characters\n",
    "from nltk.corpus import stopwords\n",
    "nltk.download('stopwords')\n",
    "stop_words = stopwords.words('english')\n",
    "#special=['!','@','#','$','%','^','&','*','(',')',':','<','>',',','.',';','{','}','|','_','-','+','=','`','~',\"--\",\"'\",'\"','[',']','\\n','/','\\\\']\n",
    "special=[',','.',';','_','-','=','*']\n",
    "for item  in df['tokenized_text']:\n",
    "    item_new=[]\n",
    "    for word in item:\n",
    "        word=str(word)\n",
    "        if (word in stop_words) or (word in special):\n",
    "            item.remove(word)"
   ]
  },
  {
   "cell_type": "code",
   "execution_count": 23,
   "metadata": {
    "collapsed": false
   },
   "outputs": [
    {
     "data": {
      "text/html": [
       "<div>\n",
       "<style scoped>\n",
       "    .dataframe tbody tr th:only-of-type {\n",
       "        vertical-align: middle;\n",
       "    }\n",
       "\n",
       "    .dataframe tbody tr th {\n",
       "        vertical-align: top;\n",
       "    }\n",
       "\n",
       "    .dataframe thead th {\n",
       "        text-align: right;\n",
       "    }\n",
       "</style>\n",
       "<table border=\"1\" class=\"dataframe\">\n",
       "  <thead>\n",
       "    <tr style=\"text-align: right;\">\n",
       "      <th></th>\n",
       "      <th>Text</th>\n",
       "      <th>Label</th>\n",
       "      <th>tokenized_text</th>\n",
       "    </tr>\n",
       "    <tr>\n",
       "      <th>Ind</th>\n",
       "      <th></th>\n",
       "      <th></th>\n",
       "      <th></th>\n",
       "    </tr>\n",
       "  </thead>\n",
       "  <tbody>\n",
       "    <tr>\n",
       "      <th>1</th>\n",
       "      <td>\u0000\u0000 \u0000\u0000\u0000\b\u0000\u0000\u0000 \u0000\u0000\u0000\u0010\f",
       "\u0000\u0000\u0000\u0000\u0000\u0000\u0000\u0000\u0000\u0000\u0000\u0000\u0000\u0000\u0000\u0000\u0000\u0000\u0000\u0000\u0000\u0000\b\u0000\u0000\u0000\b\u0000\u0000\u0000...</td>\n",
       "      <td>not_spam</td>\n",
       "      <td>[\u0000\u0000, \u0000\u0000\u0000\b\u0000\u0000\u0000, \u0000\u0000\u0000\u0010, \u0000\u0000\u0000\u0000\u0000\u0000\u0000\u0000\u0000\u0000\u0000\u0000\u0000\u0000\u0000\u0000\u0000\u0000\u0000\u0000\u0000\u0000\b\u0000\u0000\u0000...</td>\n",
       "    </tr>\n",
       "    <tr>\n",
       "      <th>2</th>\n",
       "      <td>job post - apple-iss research center\\n\\nconte...</td>\n",
       "      <td>not_spam</td>\n",
       "      <td>[job, post, apple-iss, research, center, conte...</td>\n",
       "    </tr>\n",
       "    <tr>\n",
       "      <th>3</th>\n",
       "      <td>\\n\\nlang classification grime , joseph e . ba...</td>\n",
       "      <td>not_spam</td>\n",
       "      <td>[lang, classification, grime, joseph, e, barba...</td>\n",
       "    </tr>\n",
       "    <tr>\n",
       "      <th>4</th>\n",
       "      <td>query : letter frequency text identification\\...</td>\n",
       "      <td>not_spam</td>\n",
       "      <td>[query, :, letter, frequency, text, identifica...</td>\n",
       "    </tr>\n",
       "    <tr>\n",
       "      <th>5</th>\n",
       "      <td>risk\\n\\ncolleague research differ degree risk...</td>\n",
       "      <td>not_spam</td>\n",
       "      <td>[risk, colleague, research, differ, degree, ri...</td>\n",
       "    </tr>\n",
       "  </tbody>\n",
       "</table>\n",
       "</div>"
      ],
      "text/plain": [
       "                                                  Text     Label  \\\n",
       "Ind                                                                \n",
       "1    \u0000\u0000 \u0000\u0000\u0000\b\u0000\u0000\u0000 \u0000\u0000\u0000\u0010\n",
       "\u0000\u0000\u0000\u0000\u0000\u0000\u0000\u0000\u0000\u0000\u0000\u0000\u0000\u0000\u0000\u0000\u0000\u0000\u0000\u0000\u0000\u0000\b\u0000\u0000\u0000\b\u0000\u0000\u0000...  not_spam   \n",
       "2     job post - apple-iss research center\\n\\nconte...  not_spam   \n",
       "3     \\n\\nlang classification grime , joseph e . ba...  not_spam   \n",
       "4     query : letter frequency text identification\\...  not_spam   \n",
       "5     risk\\n\\ncolleague research differ degree risk...  not_spam   \n",
       "\n",
       "                                        tokenized_text  \n",
       "Ind                                                     \n",
       "1    [\u0000\u0000, \u0000\u0000\u0000\b\u0000\u0000\u0000, \u0000\u0000\u0000\u0010, \u0000\u0000\u0000\u0000\u0000\u0000\u0000\u0000\u0000\u0000\u0000\u0000\u0000\u0000\u0000\u0000\u0000\u0000\u0000\u0000\u0000\u0000\b\u0000\u0000\u0000...  \n",
       "2    [job, post, apple-iss, research, center, conte...  \n",
       "3    [lang, classification, grime, joseph, e, barba...  \n",
       "4    [query, :, letter, frequency, text, identifica...  \n",
       "5    [risk, colleague, research, differ, degree, ri...  "
      ]
     },
     "execution_count": 23,
     "metadata": {},
     "output_type": "execute_result"
    }
   ],
   "source": [
    "df.head()"
   ]
  },
  {
   "cell_type": "code",
   "execution_count": 24,
   "metadata": {
    "collapsed": false
   },
   "outputs": [],
   "source": [
    "#Get uniques words in the data that is unique words in our case\n",
    "unique_words=[]\n",
    "temp_list=[]\n",
    "#for item in df['tokenized_text']:\n",
    "#    if \n",
    "#    for word in item:\n",
    "#        temp_list.append(word)\n",
    "#temp_list1 = temp_list\n",
    "#temp_list =set(temp_list)\n",
    "for i in range(len(df.Label)):\n",
    "    if i>=1:\n",
    "        if(df.Label[i] == 'spam'):\n",
    "            for word in df.Text[i]:\n",
    "                temp_list.append(word)\n",
    "temp_list =set(temp_list)\n",
    "unique_words=temp_list"
   ]
  },
  {
   "cell_type": "code",
   "execution_count": 26,
   "metadata": {
    "collapsed": false
   },
   "outputs": [],
   "source": [
    "word_occurance={}\n",
    "for word in temp_list:\n",
    "        if word in word_occurance:\n",
    "            word_occurance[word] += 1\n",
    "        else:\n",
    "            word_occurance[word] = 1"
   ]
  },
  {
   "cell_type": "code",
   "execution_count": 27,
   "metadata": {
    "collapsed": false
   },
   "outputs": [],
   "source": [
    "new_word_occurance={}\n",
    "for k,v in word_occurance.items():\n",
    "        if v>=4:\n",
    "             new_word_occurance[k]=v"
   ]
  },
  {
   "cell_type": "code",
   "execution_count": 28,
   "metadata": {
    "collapsed": false
   },
   "outputs": [
    {
     "data": {
      "text/html": [
       "<div>\n",
       "<style scoped>\n",
       "    .dataframe tbody tr th:only-of-type {\n",
       "        vertical-align: middle;\n",
       "    }\n",
       "\n",
       "    .dataframe tbody tr th {\n",
       "        vertical-align: top;\n",
       "    }\n",
       "\n",
       "    .dataframe thead th {\n",
       "        text-align: right;\n",
       "    }\n",
       "</style>\n",
       "<table border=\"1\" class=\"dataframe\">\n",
       "  <thead>\n",
       "    <tr style=\"text-align: right;\">\n",
       "      <th></th>\n",
       "      <th>Text</th>\n",
       "      <th>Label</th>\n",
       "      <th>tokenized_text</th>\n",
       "    </tr>\n",
       "    <tr>\n",
       "      <th>Ind</th>\n",
       "      <th></th>\n",
       "      <th></th>\n",
       "      <th></th>\n",
       "    </tr>\n",
       "  </thead>\n",
       "  <tbody>\n",
       "    <tr>\n",
       "      <th>23</th>\n",
       "      <td>free\\n\\nmulti-part message mime format . - - ...</td>\n",
       "      <td>spam</td>\n",
       "      <td>[free, multi-part, message, mime, format, next...</td>\n",
       "    </tr>\n",
       "    <tr>\n",
       "      <th>40</th>\n",
       "      <td>internet success toolbox\\n\\nnote : wish send ...</td>\n",
       "      <td>spam</td>\n",
       "      <td>[internet, success, toolbox, note, :, wish, se...</td>\n",
       "    </tr>\n",
       "    <tr>\n",
       "      <th>86</th>\n",
       "      <td>free stealth 3 . 0 bulk email software . . .\\...</td>\n",
       "      <td>spam</td>\n",
       "      <td>[free, stealth, 3, 0, bulk, email, software, r...</td>\n",
       "    </tr>\n",
       "    <tr>\n",
       "      <th>87</th>\n",
       "      <td>need money ?\\n\\nhi , earn extra $ 700 week . ...</td>\n",
       "      <td>spam</td>\n",
       "      <td>[need, money, ?, hi, earn, extra, $, 700, week...</td>\n",
       "    </tr>\n",
       "    <tr>\n",
       "      <th>88</th>\n",
       "      <td>cable decsrambler $ 6 . 99 !\\n\\nreally cool !...</td>\n",
       "      <td>spam</td>\n",
       "      <td>[cable, decsrambler, $, 6, 99, !, really, cool...</td>\n",
       "    </tr>\n",
       "  </tbody>\n",
       "</table>\n",
       "</div>"
      ],
      "text/plain": [
       "                                                  Text Label  \\\n",
       "Ind                                                            \n",
       "23    free\\n\\nmulti-part message mime format . - - ...  spam   \n",
       "40    internet success toolbox\\n\\nnote : wish send ...  spam   \n",
       "86    free stealth 3 . 0 bulk email software . . .\\...  spam   \n",
       "87    need money ?\\n\\nhi , earn extra $ 700 week . ...  spam   \n",
       "88    cable decsrambler $ 6 . 99 !\\n\\nreally cool !...  spam   \n",
       "\n",
       "                                        tokenized_text  \n",
       "Ind                                                     \n",
       "23   [free, multi-part, message, mime, format, next...  \n",
       "40   [internet, success, toolbox, note, :, wish, se...  \n",
       "86   [free, stealth, 3, 0, bulk, email, software, r...  \n",
       "87   [need, money, ?, hi, earn, extra, $, 700, week...  \n",
       "88   [cable, decsrambler, $, 6, 99, !, really, cool...  "
      ]
     },
     "execution_count": 28,
     "metadata": {},
     "output_type": "execute_result"
    }
   ],
   "source": [
    "is_spam = df['Label']=='spam'\n",
    "spam_df=df[is_spam]\n",
    "spam_df.head()"
   ]
  },
  {
   "cell_type": "code",
   "execution_count": 29,
   "metadata": {
    "collapsed": false
   },
   "outputs": [
    {
     "data": {
      "text/html": [
       "<div>\n",
       "<style scoped>\n",
       "    .dataframe tbody tr th:only-of-type {\n",
       "        vertical-align: middle;\n",
       "    }\n",
       "\n",
       "    .dataframe tbody tr th {\n",
       "        vertical-align: top;\n",
       "    }\n",
       "\n",
       "    .dataframe thead th {\n",
       "        text-align: right;\n",
       "    }\n",
       "</style>\n",
       "<table border=\"1\" class=\"dataframe\">\n",
       "  <thead>\n",
       "    <tr style=\"text-align: right;\">\n",
       "      <th></th>\n",
       "      <th>Text</th>\n",
       "      <th>Label</th>\n",
       "      <th>tokenized_text</th>\n",
       "    </tr>\n",
       "    <tr>\n",
       "      <th>Ind</th>\n",
       "      <th></th>\n",
       "      <th></th>\n",
       "      <th></th>\n",
       "    </tr>\n",
       "  </thead>\n",
       "  <tbody>\n",
       "    <tr>\n",
       "      <th>1</th>\n",
       "      <td>\u0000\u0000 \u0000\u0000\u0000\b\u0000\u0000\u0000 \u0000\u0000\u0000\u0010\f",
       "\u0000\u0000\u0000\u0000\u0000\u0000\u0000\u0000\u0000\u0000\u0000\u0000\u0000\u0000\u0000\u0000\u0000\u0000\u0000\u0000\u0000\u0000\b\u0000\u0000\u0000\b\u0000\u0000\u0000...</td>\n",
       "      <td>not_spam</td>\n",
       "      <td>[\u0000\u0000, \u0000\u0000\u0000\b\u0000\u0000\u0000, \u0000\u0000\u0000\u0010, \u0000\u0000\u0000\u0000\u0000\u0000\u0000\u0000\u0000\u0000\u0000\u0000\u0000\u0000\u0000\u0000\u0000\u0000\u0000\u0000\u0000\u0000\b\u0000\u0000\u0000...</td>\n",
       "    </tr>\n",
       "    <tr>\n",
       "      <th>2</th>\n",
       "      <td>job post - apple-iss research center\\n\\nconte...</td>\n",
       "      <td>not_spam</td>\n",
       "      <td>[job, post, apple-iss, research, center, conte...</td>\n",
       "    </tr>\n",
       "    <tr>\n",
       "      <th>3</th>\n",
       "      <td>\\n\\nlang classification grime , joseph e . ba...</td>\n",
       "      <td>not_spam</td>\n",
       "      <td>[lang, classification, grime, joseph, e, barba...</td>\n",
       "    </tr>\n",
       "    <tr>\n",
       "      <th>4</th>\n",
       "      <td>query : letter frequency text identification\\...</td>\n",
       "      <td>not_spam</td>\n",
       "      <td>[query, :, letter, frequency, text, identifica...</td>\n",
       "    </tr>\n",
       "    <tr>\n",
       "      <th>5</th>\n",
       "      <td>risk\\n\\ncolleague research differ degree risk...</td>\n",
       "      <td>not_spam</td>\n",
       "      <td>[risk, colleague, research, differ, degree, ri...</td>\n",
       "    </tr>\n",
       "  </tbody>\n",
       "</table>\n",
       "</div>"
      ],
      "text/plain": [
       "                                                  Text     Label  \\\n",
       "Ind                                                                \n",
       "1    \u0000\u0000 \u0000\u0000\u0000\b\u0000\u0000\u0000 \u0000\u0000\u0000\u0010\n",
       "\u0000\u0000\u0000\u0000\u0000\u0000\u0000\u0000\u0000\u0000\u0000\u0000\u0000\u0000\u0000\u0000\u0000\u0000\u0000\u0000\u0000\u0000\b\u0000\u0000\u0000\b\u0000\u0000\u0000...  not_spam   \n",
       "2     job post - apple-iss research center\\n\\nconte...  not_spam   \n",
       "3     \\n\\nlang classification grime , joseph e . ba...  not_spam   \n",
       "4     query : letter frequency text identification\\...  not_spam   \n",
       "5     risk\\n\\ncolleague research differ degree risk...  not_spam   \n",
       "\n",
       "                                        tokenized_text  \n",
       "Ind                                                     \n",
       "1    [\u0000\u0000, \u0000\u0000\u0000\b\u0000\u0000\u0000, \u0000\u0000\u0000\u0010, \u0000\u0000\u0000\u0000\u0000\u0000\u0000\u0000\u0000\u0000\u0000\u0000\u0000\u0000\u0000\u0000\u0000\u0000\u0000\u0000\u0000\u0000\b\u0000\u0000\u0000...  \n",
       "2    [job, post, apple-iss, research, center, conte...  \n",
       "3    [lang, classification, grime, joseph, e, barba...  \n",
       "4    [query, :, letter, frequency, text, identifica...  \n",
       "5    [risk, colleague, research, differ, degree, ri...  "
      ]
     },
     "execution_count": 29,
     "metadata": {},
     "output_type": "execute_result"
    }
   ],
   "source": [
    "is_not_spam = df['Label']=='not_spam'\n",
    "not_spam_df=df[is_not_spam]\n",
    "not_spam_df.head()"
   ]
  },
  {
   "cell_type": "code",
   "execution_count": 30,
   "metadata": {
    "collapsed": false
   },
   "outputs": [],
   "source": [
    "word_and_spam={}\n",
    "temp_list2=[]\n",
    "for item in spam_df['tokenized_text']:\n",
    "    for word in item:\n",
    "        temp_list2.append(word)\n",
    "\n",
    "for word in temp_list2:\n",
    "        if word in word_and_spam:\n",
    "            word_and_spam[word] += 1\n",
    "        else:\n",
    "            word_and_spam[word] = 1\n",
    "            \n",
    "new_word_and_spam={}\n",
    "for k,v in  word_and_spam.items():\n",
    "        if v>=4:\n",
    "              new_word_and_spam[k]=v"
   ]
  },
  {
   "cell_type": "code",
   "execution_count": 31,
   "metadata": {
    "collapsed": true
   },
   "outputs": [],
   "source": [
    "word_and_non_spam={}\n",
    "temp_list3=[]\n",
    "for item in not_spam_df['tokenized_text']:\n",
    "    for word in item:\n",
    "        temp_list3.append(word)\n",
    "\n",
    "for word in temp_list3:\n",
    "        if word in word_and_non_spam:\n",
    "            word_and_non_spam[word] += 1\n",
    "        else:\n",
    "            word_and_non_spam[word] = 1\n",
    "            \n",
    "new_word_and_non_spam={}\n",
    "for k,v in  word_and_non_spam.items():\n",
    "        if v>=4:\n",
    "              new_word_and_non_spam[k]=v"
   ]
  },
  {
   "cell_type": "code",
   "execution_count": 32,
   "metadata": {
    "collapsed": false
   },
   "outputs": [
    {
     "name": "stdout",
     "output_type": "stream",
     "text": [
      "non_spam_count 4825\n",
      "spam_count 962\n"
     ]
    }
   ],
   "source": [
    "print('non_spam_count', non_spam_count)\n",
    "print('spam_count',spam_count)"
   ]
  },
  {
   "cell_type": "code",
   "execution_count": 33,
   "metadata": {
    "collapsed": false
   },
   "outputs": [],
   "source": [
    "df['Label'] = df['Label'].map( {'spam': 1, 'not_spam': 0} ).astype(int)"
   ]
  },
  {
   "cell_type": "code",
   "execution_count": 34,
   "metadata": {
    "collapsed": false
   },
   "outputs": [],
   "source": [
    "import math\n",
    "non_occurance_spam_prob_yes=0.0\n",
    "non_occurance_spam_prob_no=0.0\n",
    "occurance_spam_prob_yes=0.0\n",
    "occurance_spam_prob_no=0.0\n",
    "IG={}\n",
    "for k,v in new_word_occurance.items():\n",
    "    #req\n",
    "    non_occurance_prob= ((len(new_word_occurance)-v)/len(new_word_occurance))\n",
    "    if (k in word_and_spam):\n",
    "        non_occurance_spam_yes= (len(word_and_spam)-word_and_spam[k])/(len(word_and_spam))\n",
    "        #req\n",
    "        non_occurance_spam_yes = abs(non_occurance_spam_yes)\n",
    "        non_occurance_spam_prob_yes=math.log2(non_occurance_spam_yes)   \n",
    "    if (k in word_and_non_spam):\n",
    "        non_occurance_spam_no= (len(word_and_non_spam)-word_and_non_spam[k])/(len(word_and_spam))\n",
    "        #req\n",
    "        non_occurance_spam_no = abs(non_occurance_spam_no)\n",
    "        non_occurance_spam_prob_no= math.log2(non_occurance_spam_no)\n",
    "        #req\n",
    "    occurance_prob= (v/len(new_word_occurance))\n",
    "    if (k in word_and_spam):\n",
    "        occurance_spam_yes= (word_and_spam[k]/spam_count)\n",
    "        #req\n",
    "        occurance_spam_yes=abs(occurance_spam_yes)\n",
    "        occurance_spam_prob_yes= math.log2(occurance_spam_yes)\n",
    "    if (k in word_and_non_spam):\n",
    "        occurance_spam_no=(word_and_non_spam[k]/len(word_and_non_spam))\n",
    "        #req\n",
    "        occurance_spam_no=abs(occurance_spam_no)\n",
    "        occurance_spam_prob_no=math.log2(occurance_spam_no)\n",
    "   \n",
    "    IG[k] = ((non_occurance_prob*(non_occurance_spam_prob_yes+non_occurance_spam_prob_no))\n",
    "                 +(occurance_prob*(occurance_spam_prob_yes+occurance_spam_prob_no)))"
   ]
  },
  {
   "cell_type": "code",
   "execution_count": 35,
   "metadata": {
    "collapsed": false
   },
   "outputs": [
    {
     "name": "stdout",
     "output_type": "stream",
     "text": [
      "length : 0\n"
     ]
    }
   ],
   "source": [
    "sorted_IG={}\n",
    "sorted_IG = sorted(IG.items(), key=lambda kv: kv[1])\n",
    "c=0\n",
    "for k,v in reversed(sorted_IG):\n",
    "         print(k,v)\n",
    "         c=c+1\n",
    "print('length :',c)"
   ]
  },
  {
   "cell_type": "code",
   "execution_count": 36,
   "metadata": {
    "collapsed": false
   },
   "outputs": [],
   "source": [
    "c=0\n",
    "attri_dict={}\n",
    "for k,v in reversed(sorted_IG):\n",
    "    if c<=70:\n",
    "        attri_dict[k]=v\n",
    "        c=c+1\n",
    "for k,v in attri_dict.items():\n",
    "    print(k,v)"
   ]
  },
  {
   "cell_type": "code",
   "execution_count": 37,
   "metadata": {
    "collapsed": true
   },
   "outputs": [],
   "source": [
    "att_values=[]\n",
    "for k, v in attri_dict.items():\n",
    "    att_values=[]\n",
    "    for item in df['tokenized_text']:\n",
    "        if k in item:\n",
    "            att_values.append(1)\n",
    "        else:\n",
    "            att_values.append(0)\n",
    "    df[k]=att_values"
   ]
  },
  {
   "cell_type": "code",
   "execution_count": 38,
   "metadata": {
    "collapsed": false
   },
   "outputs": [
    {
     "name": "stdout",
     "output_type": "stream",
     "text": [
      "Number of rows and columns in training data is - (5787, 3)\n",
      "\n",
      "Data types of training data is - Text              object\n",
      "Label              int64\n",
      "tokenized_text    object\n",
      "dtype: object\n",
      "\n",
      "Training data Description  -              Label\n",
      "count  5787.000000\n",
      "mean      0.166235\n",
      "std       0.372323\n",
      "min       0.000000\n",
      "25%       0.000000\n",
      "50%       0.000000\n",
      "75%       0.000000\n",
      "max       1.000000\n",
      "\n",
      "\n",
      "Training data Column names  - Index(['Text', 'Label', 'tokenized_text'], dtype='object')\n",
      "\n",
      "Training data numeric columns are  -              Label\n",
      "count  5787.000000\n",
      "mean      0.166235\n",
      "std       0.372323\n",
      "min       0.000000\n",
      "25%       0.000000\n",
      "50%       0.000000\n",
      "75%       0.000000\n",
      "max       1.000000\n",
      "\n"
     ]
    }
   ],
   "source": [
    "#Overview of training data\n",
    "print('Number of rows and columns in training data is - {}'.format(df.shape))\n",
    "print()\n",
    "print('Data types of training data is - {}'.format(df.dtypes))\n",
    "print()\n",
    "print('Training data Description  - {}'.format(df.describe()))\n",
    "print()\n",
    "print()\n",
    "print('Training data Column names  - {}'.format(df.columns))\n",
    "print()\n",
    "\n",
    "#determine data type of columns and group  - Numeric/Non-Numeric\n",
    "numerical = df.describe(include=[np.number])\n",
    "print('Training data numeric columns are  - {}'.format(numerical))\n",
    "print()"
   ]
  },
  {
   "cell_type": "code",
   "execution_count": 39,
   "metadata": {
    "collapsed": false
   },
   "outputs": [
    {
     "data": {
      "text/html": [
       "<div>\n",
       "<style scoped>\n",
       "    .dataframe tbody tr th:only-of-type {\n",
       "        vertical-align: middle;\n",
       "    }\n",
       "\n",
       "    .dataframe tbody tr th {\n",
       "        vertical-align: top;\n",
       "    }\n",
       "\n",
       "    .dataframe thead th {\n",
       "        text-align: right;\n",
       "    }\n",
       "</style>\n",
       "<table border=\"1\" class=\"dataframe\">\n",
       "  <thead>\n",
       "    <tr style=\"text-align: right;\">\n",
       "      <th></th>\n",
       "      <th>Text</th>\n",
       "      <th>Label</th>\n",
       "      <th>tokenized_text</th>\n",
       "    </tr>\n",
       "    <tr>\n",
       "      <th>Ind</th>\n",
       "      <th></th>\n",
       "      <th></th>\n",
       "      <th></th>\n",
       "    </tr>\n",
       "  </thead>\n",
       "  <tbody>\n",
       "    <tr>\n",
       "      <th>1</th>\n",
       "      <td>\u0000\u0000 \u0000\u0000\u0000\b\u0000\u0000\u0000 \u0000\u0000\u0000\u0010\f",
       "\u0000\u0000\u0000\u0000\u0000\u0000\u0000\u0000\u0000\u0000\u0000\u0000\u0000\u0000\u0000\u0000\u0000\u0000\u0000\u0000\u0000\u0000\b\u0000\u0000\u0000\b\u0000\u0000\u0000...</td>\n",
       "      <td>0</td>\n",
       "      <td>[\u0000\u0000, \u0000\u0000\u0000\b\u0000\u0000\u0000, \u0000\u0000\u0000\u0010, \u0000\u0000\u0000\u0000\u0000\u0000\u0000\u0000\u0000\u0000\u0000\u0000\u0000\u0000\u0000\u0000\u0000\u0000\u0000\u0000\u0000\u0000\b\u0000\u0000\u0000...</td>\n",
       "    </tr>\n",
       "    <tr>\n",
       "      <th>2</th>\n",
       "      <td>job post - apple-iss research center\\n\\nconte...</td>\n",
       "      <td>0</td>\n",
       "      <td>[job, post, apple-iss, research, center, conte...</td>\n",
       "    </tr>\n",
       "    <tr>\n",
       "      <th>3</th>\n",
       "      <td>\\n\\nlang classification grime , joseph e . ba...</td>\n",
       "      <td>0</td>\n",
       "      <td>[lang, classification, grime, joseph, e, barba...</td>\n",
       "    </tr>\n",
       "    <tr>\n",
       "      <th>4</th>\n",
       "      <td>query : letter frequency text identification\\...</td>\n",
       "      <td>0</td>\n",
       "      <td>[query, :, letter, frequency, text, identifica...</td>\n",
       "    </tr>\n",
       "    <tr>\n",
       "      <th>5</th>\n",
       "      <td>risk\\n\\ncolleague research differ degree risk...</td>\n",
       "      <td>0</td>\n",
       "      <td>[risk, colleague, research, differ, degree, ri...</td>\n",
       "    </tr>\n",
       "  </tbody>\n",
       "</table>\n",
       "</div>"
      ],
      "text/plain": [
       "                                                  Text  Label  \\\n",
       "Ind                                                             \n",
       "1    \u0000\u0000 \u0000\u0000\u0000\b\u0000\u0000\u0000 \u0000\u0000\u0000\u0010\n",
       "\u0000\u0000\u0000\u0000\u0000\u0000\u0000\u0000\u0000\u0000\u0000\u0000\u0000\u0000\u0000\u0000\u0000\u0000\u0000\u0000\u0000\u0000\b\u0000\u0000\u0000\b\u0000\u0000\u0000...      0   \n",
       "2     job post - apple-iss research center\\n\\nconte...      0   \n",
       "3     \\n\\nlang classification grime , joseph e . ba...      0   \n",
       "4     query : letter frequency text identification\\...      0   \n",
       "5     risk\\n\\ncolleague research differ degree risk...      0   \n",
       "\n",
       "                                        tokenized_text  \n",
       "Ind                                                     \n",
       "1    [\u0000\u0000, \u0000\u0000\u0000\b\u0000\u0000\u0000, \u0000\u0000\u0000\u0010, \u0000\u0000\u0000\u0000\u0000\u0000\u0000\u0000\u0000\u0000\u0000\u0000\u0000\u0000\u0000\u0000\u0000\u0000\u0000\u0000\u0000\u0000\b\u0000\u0000\u0000...  \n",
       "2    [job, post, apple-iss, research, center, conte...  \n",
       "3    [lang, classification, grime, joseph, e, barba...  \n",
       "4    [query, :, letter, frequency, text, identifica...  \n",
       "5    [risk, colleague, research, differ, degree, ri...  "
      ]
     },
     "execution_count": 39,
     "metadata": {},
     "output_type": "execute_result"
    }
   ],
   "source": [
    "df.head()"
   ]
  },
  {
   "cell_type": "code",
   "execution_count": 40,
   "metadata": {
    "collapsed": true
   },
   "outputs": [],
   "source": [
    "import numpy as np\n",
    "import matplotlib.pyplot as plt\n",
    "np.random.seed(6)\n",
    "import math"
   ]
  },
  {
   "cell_type": "code",
   "execution_count": 41,
   "metadata": {
    "collapsed": false
   },
   "outputs": [
    {
     "data": {
      "image/png": "[encoded data removed]",
      "text/plain": [
       "<matplotlib.figure.Figure at 0x12f72f160>"
      ]
     },
     "metadata": {},
     "output_type": "display_data"
    }
   ],
   "source": [
    "count_Class=pd.value_counts(df['Label'], sort= True)\n",
    "count_Class.plot(kind= 'bar', color= [\"blue\", \"orange\"])\n",
    "plt.title('Bar chart')\n",
    "plt.show()"
   ]
  },
  {
   "cell_type": "code",
   "execution_count": 42,
   "metadata": {
    "collapsed": false
   },
   "outputs": [],
   "source": [
    "#df['Label'] = df['Label'].map( {'spam': 1, 'not_spam': -1} ).astype(int)"
   ]
  },
  {
   "cell_type": "code",
   "execution_count": 43,
   "metadata": {
    "collapsed": false
   },
   "outputs": [],
   "source": [
    "#df['Label1'] = df['Label'].map( {1: 1, -1: 0} ).astype(int)\n",
    "l= df['Label'].tolist()\n",
    "Y = np.array(l)"
   ]
  },
  {
   "cell_type": "code",
   "execution_count": 44,
   "metadata": {
    "collapsed": false
   },
   "outputs": [
    {
     "data": {
      "text/plain": [
       "(5787, 0)"
      ]
     },
     "execution_count": 44,
     "metadata": {},
     "output_type": "execute_result"
    }
   ],
   "source": [
    "X =df[df.columns[3:]]\n",
    "X=np.array(X)\n",
    "X.shape"
   ]
  },
  {
   "cell_type": "code",
   "execution_count": 45,
   "metadata": {
    "collapsed": false
   },
   "outputs": [
    {
     "data": {
      "text/plain": [
       "962"
      ]
     },
     "execution_count": 45,
     "metadata": {},
     "output_type": "execute_result"
    }
   ],
   "source": [
    "np.sum(Y)"
   ]
  },
  {
   "cell_type": "code",
   "execution_count": 46,
   "metadata": {
    "collapsed": false
   },
   "outputs": [
    {
     "data": {
      "text/plain": [
       "array([], dtype=float64)"
      ]
     },
     "execution_count": 46,
     "metadata": {},
     "output_type": "execute_result"
    }
   ],
   "source": [
    "X[100]"
   ]
  },
  {
   "cell_type": "code",
   "execution_count": 47,
   "metadata": {
    "collapsed": true
   },
   "outputs": [],
   "source": [
    "%matplotlib inline\n",
    "import matplotlib\n",
    "import matplotlib.pyplot as plt\n",
    "import numpy as np\n",
    "from cvxopt import matrix, solvers"
   ]
  },
  {
   "cell_type": "code",
   "execution_count": 48,
   "metadata": {
    "collapsed": true
   },
   "outputs": [],
   "source": [
    "def linear_kernel(x, y):\n",
    "    x = np.array(x)\n",
    "    y = np.array(y)\n",
    "    return np.dot(x, y)\n",
    "def poly_kernel(x, y, d = 4):\n",
    "    x = np.array(x)\n",
    "    y = np.array(y)\n",
    "    return (np.dot(x, y) + 1) ** d\n",
    "\n",
    "def rbf_kernel(x, y, sigma = 1):\n",
    "    x = np.array(x)\n",
    "    y = np.array(y)\n",
    "    norm = np.linalg.norm(x - y)\n",
    "    return np.exp(- (norm ** 2) / (sigma ** 2))"
   ]
  },
  {
   "cell_type": "code",
   "execution_count": null,
   "metadata": {
    "collapsed": false
   },
   "outputs": [],
   "source": [
    "%matplotlib inline\n",
    "import matplotlib\n",
    "import matplotlib.pyplot as plt\n",
    "import numpy as np\n",
    "from cvxopt import matrix, solvers\n",
    "C=None\n",
    "show_progress = False\n",
    "Y_predict=[]\n",
    "pred_col=[]\n",
    "weight_opt_list=[]\n",
    "b_list=[]\n",
    "def compute_dot_product(X,kernel):\n",
    "        n_samples, n_features = X.shape\n",
    "        K = np.zeros((n_samples, n_samples))\n",
    "        for i in range(n_samples):\n",
    "             for j in range(n_samples):\n",
    "                    if kernel==\"linear_kernel\":\n",
    "                            K[i,j] = linear_kernel(X[i,:], X[j,:])\n",
    "                    if kernel==\"poly_kernel\":\n",
    "                            K[i,j] = poly_kernel(X[i,:], X[j,:])\n",
    "                    if kernel==\"rbf_kernel\":\n",
    "                            K[i,j] = rbf_kernel(X[i,:], X[j,:])\n",
    "        return(K)\n",
    "def compute_lagrange_multipliers(X,Y,K):\n",
    "        # Setup solver inputs\n",
    "        data_size = Y.shape[0]\n",
    "        P = matrix(K, tc='d') # d means floats\n",
    "        q = matrix(np.full(Y.shape, -1, dtype=float), tc='d')\n",
    "        G = matrix(-np.identity(data_size), tc='d') if C is None \\\n",
    "            else matrix(np.concatenate((-np.identity(data_size), np.identity(data_size))), tc='d')\n",
    "        b = matrix(np.zeros(1), tc='d')\n",
    "        A = matrix(Y, tc='d').T\n",
    "        h = matrix(np.zeros(data_size), tc='d') if C is None \\\n",
    "            else matrix(np.concatenate((np.zeros(data_size),C * np.ones(data_size))), tc='d')   \n",
    "        solvers.options['show_progress'] = show_progress\n",
    "        solution = solvers.qp(P, q, G, h, A, b)['x'] # Get oprtimal values\n",
    "        return np.asarray(solution).reshape((data_size,)) # Convert matrix to numpy array\n",
    "def compute_opt_weights(Lagrange_values,X,Y):\n",
    "    weight_opt_list=[]\n",
    "    for i in range(len(Lagrange_values)):\n",
    "        sample_weight = Lagrange_values[i]*Y[i]*np.sum(X[i,:])\n",
    "        weight_opt_list.append(sample_weight)\n",
    "    return(weight_opt_list)\n",
    "def compute_bias(Lagrange_values,Y):\n",
    "    b_list=[]\n",
    "    for i in range(Y.shape[0]):\n",
    "        sample_b= Lagrange_values[i]*Y[i]\n",
    "        b_list.append(sample_b)\n",
    "    return(b_list)\n",
    "#X:\n",
    "#[X1...........X1i] [Yi]\n",
    "#[x1,x2,x3.....xn][y1]\n",
    "#[x1,x2,x3.....xn][y2]\n",
    "#[x1,x2,x3.....xn][yn]\n",
    "def svm_training(X,Y):\n",
    "    Y_predict=[]    \n",
    "    Lagrange_values=[]\n",
    "    weight_opt_list=[]\n",
    "    b_list=[]\n",
    "    K= compute_dot_product(X,'poly_kernel')\n",
    "    Lagrange_values= compute_lagrange_multipliers(X,Y,K)\n",
    "    #print(len(Lagrange_values))\n",
    "    weight_opt_list= compute_opt_weights(Lagrange_values,X,Y)\n",
    "    #print(len(weight_opt_list))\n",
    "    b_list= compute_bias(Lagrange_values,Y)\n",
    "    #print(len(b_list))\n",
    "    return (weight_opt_list,b_list)\n",
    "#Pediction part\n",
    "def svm_precit(weight_opt_list,X_Test, b_list):\n",
    "    weight_opt_list=np.array(weight_opt_list)\n",
    "    b_list=np.array(b_list)\n",
    "    for i in range(len(X_Test)):\n",
    "        pred = (weight_opt_list[i]*np.sum(X[i,:]))+(b_list[i])\n",
    "        if pred > 0:\n",
    "            Y_predict.append(1)\n",
    "            pred_col.append('spam')\n",
    "        if pred <= 0:\n",
    "            Y_predict.append(-1)\n",
    "            pred_col.append('not-spam') \n",
    "    return(Y_predict,pred_col)\n",
    "weight_opt_list,b_list=svm_training(X,Y)\n",
    "Y_predict,pred_col=svm_precit(weight_opt_list,X, b_list)\n",
    "df['Y_predict'] =Y_predict\n",
    "df['pred_col'] =pred_col"
   ]
  },
  {
   "cell_type": "code",
   "execution_count": null,
   "metadata": {
    "collapsed": false
   },
   "outputs": [],
   "source": [
    "df.head()"
   ]
  },
  {
   "cell_type": "code",
   "execution_count": null,
   "metadata": {
    "collapsed": false
   },
   "outputs": [],
   "source": [
    "from sklearn import metrics\n",
    "from sklearn.metrics import accuracy_score\n",
    "acc=accuracy_score(df['Label'].values, df['Y_predict'].values, normalize = True)\n",
    "met=metrics.classification_report(df['Label'].values, df['Y_predict'].values)\n",
    "conf=metrics.confusion_matrix(df['Label'].values, df['Y_predict'].values)\n",
    "res=[]\n",
    "res.append(str(acc))\n",
    "res.append(str(met))\n",
    "res.append(str(conf))"
   ]
  },
  {
   "cell_type": "code",
   "execution_count": null,
   "metadata": {
    "collapsed": false
   },
   "outputs": [],
   "source": [
    "print(\"Accuracy:\")\n",
    "print(res[0])\n",
    "print(\"\\n\")\n",
    "print(\"Classification_report:\")\n",
    "print(\"\\n\")\n",
    "print(res[1])\n",
    "print(\"\\n\")\n",
    "print(\"Confusion_Matrix:\")\n",
    "print(\"\\n\")\n",
    "print(res[2])"
   ]
  },
  {
   "cell_type": "code",
   "execution_count": null,
   "metadata": {
    "collapsed": true
   },
   "outputs": [],
   "source": []
  }
 ],
 "metadata": {
  "kernelspec": {
   "display_name": "Python 3",
   "language": "python",
   "name": "python3"
  },
  "language_info": {
   "codemirror_mode": {
    "name": "ipython",
    "version": 3
   },
   "file_extension": ".py",
   "mimetype": "text/x-python",
   "name": "python",
   "nbconvert_exporter": "python",
   "pygments_lexer": "ipython3",
   "version": "3.6.0"
  }
 },
 "nbformat": 4,
 "nbformat_minor": 2
}
